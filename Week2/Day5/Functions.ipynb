{
  "nbformat": 4,
  "nbformat_minor": 0,
  "metadata": {
    "colab": {
      "private_outputs": true,
      "provenance": []
    },
    "kernelspec": {
      "name": "python3",
      "display_name": "Python 3"
    },
    "language_info": {
      "name": "python"
    }
  },
  "cells": [
    {
      "cell_type": "markdown",
      "source": [
        "# AGENDA\n",
        "\n",
        "01 Defining and calling functions for reusable code\n",
        "\n",
        "02 Learning about Python's standard library and importing modules\n",
        "\n",
        "03 Introduction to lists, sets, and tuples\n",
        "\n"
      ],
      "metadata": {
        "id": "PqyvslAUVmYB"
      }
    },
    {
      "cell_type": "markdown",
      "source": [
        "# Introduction to Python Functions\n",
        "\n",
        "A function is simply a block of code that you can use over and over again, rather than writing it out multiple times. In Python, functions are defined using the def keyword."
      ],
      "metadata": {
        "id": "uWr3TulQEp8g"
      }
    },
    {
      "cell_type": "markdown",
      "source": [
        "**Built-in funtion**\n",
        "\n",
        "The functions that are pre-defined in Python and are always available for use without needing to import any module. Here are some examples of built-in functions in Python:\n",
        "\n",
        "* print(): Used to print output to the console.\n",
        "* len(): Returns the length of an object like a string, list, tuple, etc.\n",
        "* type(): Returns the type of an object.\n",
        "* input(): Reads input from the user via the console.\n",
        "\n",
        "To use a function in our program we must call it ​\n",
        "by it’s name (identifier) followed by a pair of parenthesis"
      ],
      "metadata": {
        "id": "sO0kUw9Ki5dE"
      }
    },
    {
      "cell_type": "markdown",
      "source": [
        "**Creating your own Function**\n",
        "\n",
        "1. Syntax of defining a funtion\n",
        "\n",
        "   **def function_name(parameters)**\n",
        "\n",
        "2. Example: Create a function to greet"
      ],
      "metadata": {
        "id": "Xvg6dqo-E1I9"
      }
    },
    {
      "cell_type": "code",
      "source": [
        "#Creating a Function\n",
        "def greet():\n",
        "  print(\"Hello world\")\n",
        "\n",
        "# Call the function with a specific name\n",
        "greet()"
      ],
      "metadata": {
        "id": "QTdXqsnybA-k"
      },
      "execution_count": null,
      "outputs": []
    },
    {
      "cell_type": "markdown",
      "source": [
        "**Parameters and Arguments**\n",
        "\n",
        "1. A parameter is the variable listed inside the parentheses in the function definition\n",
        "\n",
        "2. Arguments are specified after the function name, inside the parentheses. You can add as many arguments as you want, just separate them with a comma.\n",
        "\n",
        "3. Example: Create function to greet a specific person"
      ],
      "metadata": {
        "id": "6KNyNN8_bUom"
      }
    },
    {
      "cell_type": "code",
      "source": [
        "#Creating a Function\n",
        "def greet(name):\n",
        "    print('Hello, ' + name + '! How are you today?')\n",
        "\n",
        "# Call the function with a specific name\n",
        "greet('Saniya')"
      ],
      "metadata": {
        "id": "B7Kyj6y1E4GL"
      },
      "execution_count": null,
      "outputs": []
    },
    {
      "cell_type": "markdown",
      "source": [
        "**Number of Arguments**\n",
        "\n",
        "1. Calling funtions with mutiple arguments\n",
        "2. Example: Create function to greet people with their title and name"
      ],
      "metadata": {
        "id": "S5krQB-LcHJi"
      }
    },
    {
      "cell_type": "code",
      "source": [
        "def greet(Title,name):\n",
        "    print ('Hello,'+ Title + name +'!')\n",
        "\n",
        "\n",
        "# Call the function\n",
        "greet('Ms.','Saniya')\n",
        "greet('Mr.','Ahmed')"
      ],
      "metadata": {
        "id": "KQZzV976UiJA"
      },
      "execution_count": null,
      "outputs": []
    },
    {
      "cell_type": "markdown",
      "source": [
        "**Arbitrary Arguments**\n",
        "\n",
        "1. Using *args, the function will receive a many arguments\n",
        "2. Example: Creating funtion to greet many people"
      ],
      "metadata": {
        "id": "iR_6RZYWgf1Z"
      }
    },
    {
      "cell_type": "code",
      "source": [
        "def greet_people(*args):\n",
        "    for name in args:\n",
        "        print(\"Hello,\", name, \"! Welcome to our session!\")\n",
        "\n",
        "greet_people(\"Aaron\", \"Dovile\", \"Saniya\", \"Suifan\")"
      ],
      "metadata": {
        "id": "chwDTEYqU1ZD"
      },
      "execution_count": null,
      "outputs": []
    },
    {
      "cell_type": "markdown",
      "source": [
        "# Exercises\n",
        "1. Create a function that takes two parameters for :  name and age, and outputs a Birthday message “ Happy Birthday ‘name’ I hear you are ‘age’ today!”\n",
        "\n",
        "2. Create a function that takes two parameters: size and type of drink, and then outputs the drinks order.\n",
        "\n",
        "3. Create a cash machine program that takes a pin number and amount. Outputs cash is being dispensed if the pin is correct and there is enough money to withdraw. Finally outputs the new balance."
      ],
      "metadata": {
        "id": "LAahOB-2lish"
      }
    },
    {
      "cell_type": "markdown",
      "source": [
        "# Python's standard library"
      ],
      "metadata": {
        "id": "2LsRnaKsmZ85"
      }
    },
    {
      "cell_type": "markdown",
      "source": [
        "# What is a Library?\n",
        "\n",
        "Typically when someone asks you to think of a Library, you would imagine a building full of books. From this building, you can retrieve any book you wish, for your own purposes (probably studying in this context!)​\n",
        "\n",
        "​\n",
        "\n",
        "We can take this same logic and apply it to Libraries of a Software Engineering context."
      ],
      "metadata": {
        "id": "iQLqXfhfmi6s"
      }
    },
    {
      "cell_type": "markdown",
      "source": [
        "# What is a Library in Python?\n",
        "In Python, a library is a collection of smaller \"books\" called “Modules”.​\n",
        "\n",
        "​\n",
        "\n",
        "Each module contains pieces of code that has been written by somebody else, and made available for you to use! This can be to solve a very niche problem, or generally making your quality of life easier.​\n",
        "\n",
        "​"
      ],
      "metadata": {
        "id": "lBNalNXZmwCt"
      }
    },
    {
      "cell_type": "markdown",
      "source": [
        "# Popular Libraries & Uses\n",
        "[Here](https://https://docs.python.org/3/library/index.html) is the official Python list of modules contained in the Python Standard Library\n",
        "\n",
        "Being a part of the PSL, these modules are pre-installed along with Python, and are immediately ready for us to use without having to install anything additional.\n",
        "\n",
        "Some of these you may recognise or have heard of before, such as NumPy, Pandas, or pygame. As you can see from the descriptions of these libraries, each one can serve a wildly different purpose.​\n",
        "\n",
        "​\n",
        "\n",
        "These libraries are what have allowed us to create things such as ChatGPT!​\n",
        "\n",
        "​"
      ],
      "metadata": {
        "id": "kQ-kLe2qnXrb"
      }
    },
    {
      "cell_type": "markdown",
      "source": [
        "# How do we import a Library?\n",
        "The syntax for importing a library is very basic, but also very important. All import statements must be made at the **TOP** of your code. (before the imported code is utilised)​\n",
        "\n",
        "​\n",
        "\n",
        "Lets try importing the “math” module from the Python standard library:"
      ],
      "metadata": {
        "id": "BEyzH3X4obIz"
      }
    },
    {
      "cell_type": "code",
      "source": [
        "import math"
      ],
      "metadata": {
        "id": "M0a5V36tn4cf"
      },
      "execution_count": null,
      "outputs": []
    },
    {
      "cell_type": "markdown",
      "source": [
        "Inside the math module, you will find that many methods have already been defined. (check [here](https://www.w3schools.com/python/module_math.asp#math_constants))​\n",
        "\n",
        "\n",
        "\n",
        "One of these methods is the value for   (pi). We know this as 3.14​\n",
        "\n",
        "We can verify by calling this method from the math module, and printing the value."
      ],
      "metadata": {
        "id": "UfpFjYkao2H8"
      }
    },
    {
      "cell_type": "markdown",
      "source": [
        "To access the value of any method in any module, we must write it as​\n",
        "\n",
        "**module_name.method_name**​\n",
        "\n",
        "\n",
        "Because we have assigned this value to the variable “x”, we can now utilise this math.pi method without having to write “math.pi” every time.​\n",
        "\n",
        "\n",
        "This is easily proved, as we can now print the value of “x”"
      ],
      "metadata": {
        "id": "rXZhdZCJpV8s"
      }
    },
    {
      "cell_type": "code",
      "source": [
        "import math\n",
        "\n",
        "x = math.pi\n",
        "\n",
        "print(x)"
      ],
      "metadata": {
        "id": "8To5i9JNpftC"
      },
      "execution_count": null,
      "outputs": []
    },
    {
      "cell_type": "markdown",
      "source": [
        "An alternative way of utilising an imported module is to assign it a new **alias. ​**\n",
        "\n",
        "\n",
        "For example, here I have imported the math module and renamed it to simply “m”.​\n",
        "\n",
        "This change is reflected in the code on line 3, and attempting to call “math”.method after it has been assigned a new alias, will **NOT** work"
      ],
      "metadata": {
        "id": "CJvrfTpdpwDx"
      }
    },
    {
      "cell_type": "code",
      "source": [
        "import math as m\n",
        "\n",
        "x = m.pi\n",
        "\n",
        "print(x)"
      ],
      "metadata": {
        "id": "T8mliN2Qp-UH"
      },
      "execution_count": null,
      "outputs": []
    },
    {
      "cell_type": "code",
      "source": [
        "# Calculating square root and power\n",
        "print(m.sqrt(16))  # Square root of 16\n",
        "print(m.pow(2, 3))  # 2 raised to the power 3"
      ],
      "metadata": {
        "id": "PonPx_CWqXde"
      },
      "execution_count": null,
      "outputs": []
    },
    {
      "cell_type": "markdown",
      "source": [
        "# Group Exercises -1 Roll The Dice\n",
        "1. Have a look at the methods available for the random module [Click here](https://www.w3schools.com/python/module_random.asp)\n",
        "\n",
        "2. ​Using the random module, can you write a program that rolls a dice.\n",
        "\n",
        "3. If the dice rolls a 6, print “Congrats! Move 2 spaces!”. If the dice doesn’t roll a 6, print “Try again!”"
      ],
      "metadata": {
        "id": "2QKDrRDGqQx7"
      }
    },
    {
      "cell_type": "markdown",
      "source": [
        "# What are lists?\n",
        "* Lists are used to store multiple items in a single variable\n",
        "* Lists in Python are ordered, mutable (changeable), and allow duplicate elements.\n",
        "* They are created using square brackets [].\n"
      ],
      "metadata": {
        "id": "tKIYUmbK5L5d"
      }
    },
    {
      "cell_type": "code",
      "source": [
        "my_list = [1, 2, 3, 'Python', 'is', 'fun']\n",
        "print(my_list)"
      ],
      "metadata": {
        "id": "zxxy4aVf5H_9"
      },
      "execution_count": null,
      "outputs": []
    },
    {
      "cell_type": "code",
      "source": [
        "# Adding an element to the list\n",
        "my_list.append('!')\n",
        "print(my_list)"
      ],
      "metadata": {
        "id": "vKzFRoKc8wHV"
      },
      "execution_count": null,
      "outputs": []
    },
    {
      "cell_type": "code",
      "source": [
        "# create  a list with your fav colours\n",
        "Fav_colours = ['orange','red','green' ]\n",
        "print (Fav_colours)"
      ],
      "metadata": {
        "id": "Zhz9WmIt9xBe"
      },
      "execution_count": null,
      "outputs": []
    },
    {
      "cell_type": "code",
      "source": [
        "# add purple to it\n",
        "Fav_colours.append('purple')\n",
        "print('my list of:',Fav_colours)"
      ],
      "metadata": {
        "id": "G5c2S26v97XZ"
      },
      "execution_count": null,
      "outputs": []
    },
    {
      "cell_type": "markdown",
      "source": [
        "# Basic list operations"
      ],
      "metadata": {
        "id": "fNl_c85P9-7n"
      }
    },
    {
      "cell_type": "code",
      "source": [
        "# Creating a list\n",
        "fruits = [\"apple\", \"banana\", \"cherry\"]\n",
        "print(\"Original list:\", fruits)"
      ],
      "metadata": {
        "id": "m89_dcVC-DAH"
      },
      "execution_count": null,
      "outputs": []
    },
    {
      "cell_type": "code",
      "source": [
        "# Adding elements\n",
        "fruits.append(\"orange\")\n",
        "print(\"After append:\", fruits)"
      ],
      "metadata": {
        "id": "Edkh3KPi-EvV"
      },
      "execution_count": null,
      "outputs": []
    },
    {
      "cell_type": "code",
      "source": [
        "# Accessing elements\n",
        "print(\"First fruit:\", fruits[0])\n",
        "print(\"last fruit:\", fruits[3])"
      ],
      "metadata": {
        "id": "WYNVVH8h-GPg"
      },
      "execution_count": null,
      "outputs": []
    },
    {
      "cell_type": "code",
      "source": [
        "# Slicing a list\n",
        "print(\"First two fruits:\", fruits[0:2])"
      ],
      "metadata": {
        "id": "-OxAFrI8-ILZ"
      },
      "execution_count": null,
      "outputs": []
    },
    {
      "cell_type": "code",
      "source": [
        "# Changing elements\n",
        "fruits[0] = \"blueberry\"\n",
        "print(\"After change:\", fruits)"
      ],
      "metadata": {
        "id": "xXxSvhvw-KAV"
      },
      "execution_count": null,
      "outputs": []
    },
    {
      "cell_type": "code",
      "source": [
        "# Removing elements\n",
        "fruits.remove(\"orange\")\n",
        "print(\"After removal:\", fruits)"
      ],
      "metadata": {
        "id": "QnxbOToX-LhT"
      },
      "execution_count": null,
      "outputs": []
    },
    {
      "cell_type": "markdown",
      "source": [
        "# List slicing"
      ],
      "metadata": {
        "id": "cTWFoZhB_IG3"
      }
    },
    {
      "cell_type": "code",
      "source": [
        "# Slicing to get sublists\n",
        "numbers = [1, 2, 3, 4, 5, 6, 7, 8, 9]\n",
        "print(\"All numbers:\", numbers)"
      ],
      "metadata": {
        "id": "LXptiBOy_FrU"
      },
      "execution_count": null,
      "outputs": []
    },
    {
      "cell_type": "code",
      "source": [
        "# Slice from the third to the fifth element\n",
        "print(\"Slice 3-5:\", numbers[2:5])"
      ],
      "metadata": {
        "id": "o-QViwNG_LE3"
      },
      "execution_count": null,
      "outputs": []
    },
    {
      "cell_type": "code",
      "source": [
        "# Slice from start to the fourth element\n",
        "print(\"Slice to 9:\", numbers[:9])"
      ],
      "metadata": {
        "id": "4Hgvy05X_Mby"
      },
      "execution_count": null,
      "outputs": []
    },
    {
      "cell_type": "code",
      "source": [
        "# Slice from the sixth element to the end\n",
        "print(\"Slice from 6:\", numbers[3:])"
      ],
      "metadata": {
        "id": "l6h0PFPu_QOb"
      },
      "execution_count": null,
      "outputs": []
    },
    {
      "cell_type": "code",
      "source": [
        "# Slice with a step\n",
        "print(\"Every other number:\", numbers[::3])"
      ],
      "metadata": {
        "id": "mKDdXU6I_RS4"
      },
      "execution_count": null,
      "outputs": []
    },
    {
      "cell_type": "markdown",
      "source": [
        "# List Comprehension"
      ],
      "metadata": {
        "id": "MN8GT4Sf_lbM"
      }
    },
    {
      "cell_type": "code",
      "source": [
        "numbers = [1, 2, 3, 4, 5]\n",
        "# Using list comprehensions\n",
        "squared_numbers = [i**2 for i in numbers]\n",
        "print(squared_numbers)"
      ],
      "metadata": {
        "id": "sKlbmVG-_u9j"
      },
      "execution_count": null,
      "outputs": []
    },
    {
      "cell_type": "code",
      "source": [
        "# Creating a new list by manipulating each item in the original list\n",
        "squared = [x**2 for x in numbers]\n",
        "print(\"Squared numbers:\", squared)"
      ],
      "metadata": {
        "id": "3mp4Sl0J_wz5"
      },
      "execution_count": null,
      "outputs": []
    },
    {
      "cell_type": "code",
      "source": [
        "# Creating a list based on a conditional test\n",
        "even_numbers = [x for x in numbers if x % 2 == 0]\n",
        "print(\"Even numbers:\", even_numbers)"
      ],
      "metadata": {
        "id": "YaKDUcvD_yOj"
      },
      "execution_count": null,
      "outputs": []
    },
    {
      "cell_type": "code",
      "source": [
        "# Creating a list based on a conditional test\n",
        "odd_numbers = [x for x in numbers if x % 2 != 0]\n",
        "print(\"odd numbers:\", odd_numbers)"
      ],
      "metadata": {
        "id": "pbINf47B_ztH"
      },
      "execution_count": null,
      "outputs": []
    },
    {
      "cell_type": "markdown",
      "source": [
        "# Other common list methods"
      ],
      "metadata": {
        "id": "U9sm9pALAORD"
      }
    },
    {
      "cell_type": "code",
      "source": [
        "# Length of the list\n",
        "print(\"Number of fruits:\",len(fruits))"
      ],
      "metadata": {
        "id": "mXSqH7HQAUHt"
      },
      "execution_count": null,
      "outputs": []
    },
    {
      "cell_type": "code",
      "source": [
        "# Inserting an element at a specific position\n",
        "#name_list.insert(index_num , insert_value)\n",
        "fruits.insert(1, \"mango\")\n",
        "print(\"After insert:\", fruits)"
      ],
      "metadata": {
        "id": "w_8eFTdUAdBX"
      },
      "execution_count": null,
      "outputs": []
    },
    {
      "cell_type": "code",
      "source": [
        "# Reversing the list\n",
        "fruits.reverse()\n",
        "print(\"Reversed list:\", fruits)"
      ],
      "metadata": {
        "id": "g-7Sb9ZDAi85"
      },
      "execution_count": null,
      "outputs": []
    },
    {
      "cell_type": "code",
      "source": [
        "# Sorting the list\n",
        "fruits.sort()\n",
        "print(\"Sorted list:\", fruits)"
      ],
      "metadata": {
        "id": "k39oruIHAkiY"
      },
      "execution_count": null,
      "outputs": []
    },
    {
      "cell_type": "code",
      "source": [
        "# Popping the last item from the list\n",
        "last_fruit = fruits.pop()\n",
        "print(\"Popped fruit:\", last_fruit)\n",
        "print(\"After pop:\", fruits)"
      ],
      "metadata": {
        "id": "X6NS79neAmCL"
      },
      "execution_count": null,
      "outputs": []
    },
    {
      "cell_type": "code",
      "source": [
        "# Clearing all elements from the list\n",
        "fruits.clear()\n",
        "print(\"After clear:\", fruits)\n",
        "print(fruits)"
      ],
      "metadata": {
        "id": "qZb3Q4eSAnHz"
      },
      "execution_count": null,
      "outputs": []
    },
    {
      "cell_type": "markdown",
      "source": [
        "# Excercise\n",
        "\n",
        "*  Create a list of your fav sport game.\n",
        "*  Add 'Hockey' to your list\n",
        "* Access the first 4 elements\n",
        "* Access the only 5th element\n",
        "* Replace Hockey with Ice-Hockey\n",
        "* Remove the 2nd element of your list\n",
        "* Reverse the list\n",
        "* Sort the list\n",
        "* Pop Ice-Hockey off the list\n",
        "* Clear all the elemenst from that list\n"
      ],
      "metadata": {
        "id": "qoADXehR-Ps6"
      }
    },
    {
      "cell_type": "markdown",
      "source": [
        "# Tuples\n",
        "\n",
        "1. A tuple is an ordered collection of elements that can be of different data types.\n",
        "2.  It is immutable, meaning its elements cannot be modified during runtime once the tuple is created.\n",
        "3. They are created using parentheses `()`."
      ],
      "metadata": {
        "id": "spGYPTiDBGEL"
      }
    },
    {
      "cell_type": "markdown",
      "source": [
        "**Discussion:**\n",
        "\n",
        "What kinds of projects or scenarios can you think of where a Tuple might be used instead of a standard list?l"
      ],
      "metadata": {
        "id": "4FPCJ7oJBogx"
      }
    },
    {
      "cell_type": "code",
      "source": [
        "my_tuple = (1, 2, 3, 'Python')\n",
        "print(my_tuple)"
      ],
      "metadata": {
        "id": "XRpRG73OB_cK"
      },
      "execution_count": null,
      "outputs": []
    },
    {
      "cell_type": "code",
      "source": [
        "# Trying to change a tuple will result in an error\n",
        "my_tuple[0] = 'New Value'"
      ],
      "metadata": {
        "id": "OPE_0cGuCKJE"
      },
      "execution_count": null,
      "outputs": []
    },
    {
      "cell_type": "markdown",
      "source": [
        "# Creating and accessing tuples"
      ],
      "metadata": {
        "id": "6HU_ZZs4CSwY"
      }
    },
    {
      "cell_type": "code",
      "source": [
        "# Creating a tuple\n",
        "fruits = (\"apple\", \"banana\", \"cherry\")\n",
        "print(\"Original tuple:\", fruits)"
      ],
      "metadata": {
        "id": "_O2sETzeCRQV"
      },
      "execution_count": null,
      "outputs": []
    },
    {
      "cell_type": "code",
      "source": [
        "# Accessing tuple element\n",
        "print(\"First fruit:\", fruits[0])\n",
        "print(\"last fruit:\", fruits[2])"
      ],
      "metadata": {
        "id": "R7b05JBZCU3x"
      },
      "execution_count": null,
      "outputs": []
    },
    {
      "cell_type": "code",
      "source": [
        "# Tuples can contain mixed data types\n",
        "mixed_tuple = (\"apple\", 2, 3.14)\n",
        "print(\"Mixed tuple:\", mixed_tuple)"
      ],
      "metadata": {
        "id": "Se5l_W3WCWBj"
      },
      "execution_count": null,
      "outputs": []
    },
    {
      "cell_type": "markdown",
      "source": [
        "# Tuple slicing"
      ],
      "metadata": {
        "id": "y2RHU-M9CcFC"
      }
    },
    {
      "cell_type": "code",
      "source": [
        "# Slicing a tuple\n",
        "numbers = (0, 1, 2, 3, 4, 5, 6, 7, 8, 9)\n",
        "print(\"All numbers:\", numbers)"
      ],
      "metadata": {
        "id": "yB4tyWUaCa5L"
      },
      "execution_count": null,
      "outputs": []
    },
    {
      "cell_type": "code",
      "source": [
        "# Slice from the third to the fifth element\n",
        "print(\"Slice 3-5:\", numbers[2:5])"
      ],
      "metadata": {
        "id": "k9iOp0WFChK5"
      },
      "execution_count": null,
      "outputs": []
    },
    {
      "cell_type": "code",
      "source": [
        "# Slice from start to the fourth element\n",
        "print(\"Slice to 4:\", numbers[:7])"
      ],
      "metadata": {
        "id": "64--UUK9Cict"
      },
      "execution_count": null,
      "outputs": []
    },
    {
      "cell_type": "code",
      "source": [
        "# Slice from the sixth element to the end\n",
        "print(\"Slice from 6:\", numbers[5:])"
      ],
      "metadata": {
        "id": "9HapuizzCjdU"
      },
      "execution_count": null,
      "outputs": []
    },
    {
      "cell_type": "code",
      "source": [
        "# Slice with a step\n",
        "print(\"Every other number:\", numbers[0:9:2])"
      ],
      "metadata": {
        "id": "4LofhOpRCkoO"
      },
      "execution_count": null,
      "outputs": []
    },
    {
      "cell_type": "markdown",
      "source": [
        "# Other tuples common operations"
      ],
      "metadata": {
        "id": "J69l5nFsCmIw"
      }
    },
    {
      "cell_type": "code",
      "source": [
        "# Length of the tuple\n",
        "print(\"Number of fruits:\", len(fruits))"
      ],
      "metadata": {
        "id": "g5vnlgfGCn61"
      },
      "execution_count": null,
      "outputs": []
    },
    {
      "cell_type": "code",
      "source": [
        "# Concatenating tuples\n",
        "more_fruits = (\"orange\", \"pear\",\"apples\")\n",
        "all_fruits = fruits + more_fruits\n",
        "print(\"All fruits:\", all_fruits)"
      ],
      "metadata": {
        "id": "NAEEMu4WCskq"
      },
      "execution_count": null,
      "outputs": []
    },
    {
      "cell_type": "code",
      "source": [
        "# Check if an element exists in a tuple\n",
        "if \"pear\" in fruits:\n",
        "    print(\"pear is in the tuple\")\n",
        "else:\n",
        "    print('pear is not in the tuple')"
      ],
      "metadata": {
        "id": "XKOp8TxeCvLF"
      },
      "execution_count": null,
      "outputs": []
    },
    {
      "cell_type": "code",
      "source": [
        "# Count the occurrences of an element\n",
        "print(\"Number of apples:\", all_fruits.count(\"apples\"))"
      ],
      "metadata": {
        "id": "2tubzoGvCwXF"
      },
      "execution_count": null,
      "outputs": []
    },
    {
      "cell_type": "code",
      "source": [
        "# Find the index of an element\n",
        "print(\"Index of cherry:\", all_fruits.index(\"cherry\"))"
      ],
      "metadata": {
        "id": "RrJ2Md_GCxp4"
      },
      "execution_count": null,
      "outputs": []
    },
    {
      "cell_type": "markdown",
      "source": [
        "# Tuples in loops"
      ],
      "metadata": {
        "id": "bLY1XA1UC3zN"
      }
    },
    {
      "cell_type": "code",
      "source": [
        "# Iterating over a tuple\n",
        "for fruit in all_fruits:\n",
        "    print(fruit)"
      ],
      "metadata": {
        "id": "EVf3Q8C-C6MJ"
      },
      "execution_count": null,
      "outputs": []
    },
    {
      "cell_type": "code",
      "source": [
        "# Tuple comprehension does not exist, but we can create a tuple from a list comprehension\n",
        "squared_tuple = tuple(x**2 for x in numbers)\n",
        "print(\"Squared tuple:\", squared_tuple)"
      ],
      "metadata": {
        "id": "yEeqvfPLDaJv"
      },
      "execution_count": null,
      "outputs": []
    },
    {
      "cell_type": "markdown",
      "source": [
        "# Excercise\n",
        "\n",
        "**Scenario:**\n",
        "You are managing inventory for a small grocery store, and you want to use tuples to represent the items in stock. Each tuple will contain information about a specific item, including its name, price, and quantity available.\n",
        "\n",
        "**Instructions:**\n",
        "\n",
        "* Create tuples for different items in stock, with each tuple containing information in the format (name, price, quantity).\n",
        "* Perform tuple operations to analyze the inventory, such as finding the total value of the inventory or identifying items that need restocking based on their quantity"
      ],
      "metadata": {
        "id": "JPBZhgFWD2fR"
      }
    },
    {
      "cell_type": "markdown",
      "source": [
        "# Sets\n",
        "\n",
        "1. Sets are unordered, mutable, and do not allow duplicate elements.\n",
        "2. They are created using curly braces `{}`."
      ],
      "metadata": {
        "id": "fMM7KMyXE-LW"
      }
    },
    {
      "cell_type": "code",
      "source": [
        "my_set = {1, 2, 3, 'Python'}\n",
        "print(my_set)\n"
      ],
      "metadata": {
        "id": "i4fkZ6tUD2DU"
      },
      "execution_count": null,
      "outputs": []
    },
    {
      "cell_type": "markdown",
      "source": [
        "# Creating and modifying sets"
      ],
      "metadata": {
        "id": "-rTIqIHPFbDV"
      }
    },
    {
      "cell_type": "code",
      "source": [
        "fruits = {'apple', 'banana', 'cherry', 'apple', 'cherry'}\n",
        "print(fruits)"
      ],
      "metadata": {
        "id": "_DVvGN7qFVAB"
      },
      "execution_count": null,
      "outputs": []
    },
    {
      "cell_type": "code",
      "source": [
        "# Adding an element to the set\n",
        "fruits.add(\"orange\")\n",
        "print(\"After adding:\", fruits)"
      ],
      "metadata": {
        "id": "wDYiAP0UFska"
      },
      "execution_count": null,
      "outputs": []
    },
    {
      "cell_type": "code",
      "source": [
        "# Removing duplicates from a list\n",
        "unique_fruits = set(['apple', 'banana', 'apple', 'cherry',])\n",
        "print(unique_fruits)"
      ],
      "metadata": {
        "id": "E9tYAUOSFq98"
      },
      "execution_count": null,
      "outputs": []
    },
    {
      "cell_type": "code",
      "source": [
        "# Sets automatically remove duplicates\n",
        "fruits.add(\"apple\")\n",
        "print(\"After trying to add another apple:\", fruits)"
      ],
      "metadata": {
        "id": "Odrqa11pFv5C"
      },
      "execution_count": null,
      "outputs": []
    },
    {
      "cell_type": "code",
      "source": [
        "# Creating a set from a list (to remove duplicates)\n",
        "numbers_list = [1, 2, 2, 3, 4, 4, 4, 5]\n",
        "unique_numbers = set(numbers_list)\n",
        "print(\"Unique numbers:\", unique_numbers)"
      ],
      "metadata": {
        "id": "dwAKBHlMFxWz"
      },
      "execution_count": null,
      "outputs": []
    },
    {
      "cell_type": "markdown",
      "source": [
        "# Set operations"
      ],
      "metadata": {
        "id": "Vl5XXqB1F0NW"
      }
    },
    {
      "cell_type": "code",
      "source": [
        "# Other sets for demonstration\n",
        "vegetables = {\"carrot\", \"potato\", \"onion\"}"
      ],
      "metadata": {
        "id": "GLSNiamfFz88"
      },
      "execution_count": null,
      "outputs": []
    },
    {
      "cell_type": "code",
      "source": [
        "# Union of two sets\n",
        "all_items = fruits.union(vegetables)\n",
        "print(\"Union:\", all_items)"
      ],
      "metadata": {
        "id": "7oWt8a5fFzBa"
      },
      "execution_count": null,
      "outputs": []
    },
    {
      "cell_type": "code",
      "source": [
        "# Intersection of sets\n",
        "my_set = fruits.intersection(vegetables)\n",
        "print(\"My set is :\", my_set)"
      ],
      "metadata": {
        "id": "1w8oCoycF7EL"
      },
      "execution_count": null,
      "outputs": []
    },
    {
      "cell_type": "code",
      "source": [
        "fruits = {\"apple\", \"banana\", \"cherry\"}"
      ],
      "metadata": {
        "id": "HUheQR9YF8bE"
      },
      "execution_count": null,
      "outputs": []
    },
    {
      "cell_type": "code",
      "source": [
        "# Difference between two sets\n",
        "different_elements = fruits.difference(vegetables)\n",
        "print(\"Different elements in my set:\", different_elements)"
      ],
      "metadata": {
        "id": "6NmXhVKkGbhV"
      },
      "execution_count": null,
      "outputs": []
    },
    {
      "cell_type": "markdown",
      "source": [
        "Iterating over sets and removing elements"
      ],
      "metadata": {
        "id": "R7uhQREZGvKz"
      }
    },
    {
      "cell_type": "code",
      "source": [
        "# Iterating over a set\n",
        "fruits_2 = {\"apple\", \"kiwi\", \"banana\",}\n",
        "for item in fruits_2:\n",
        "    print(item)"
      ],
      "metadata": {
        "id": "ulSaUDl0Gxw2"
      },
      "execution_count": null,
      "outputs": []
    },
    {
      "cell_type": "code",
      "source": [
        "# Removing elements from a set\n",
        "fruits.remove(\"banana\")\n",
        "print(\"After removal:\", fruits)"
      ],
      "metadata": {
        "id": "9vliCdNdG2Ke"
      },
      "execution_count": null,
      "outputs": []
    },
    {
      "cell_type": "code",
      "source": [
        "# Discarding an element (no error if the element is not found)\n",
        "fruits.discard(\"pineapple\")\n",
        "print(\"After discarding pineapple:\", fruits)"
      ],
      "metadata": {
        "id": "7nO3Ya9WG4IN"
      },
      "execution_count": null,
      "outputs": []
    },
    {
      "cell_type": "code",
      "source": [
        "# Clearing all elements from the set\n",
        "fruits_2.clear()\n",
        "print(\"After clear:\", fruits_2)"
      ],
      "metadata": {
        "id": "DYECgBzeG5pc"
      },
      "execution_count": null,
      "outputs": []
    },
    {
      "cell_type": "markdown",
      "source": [
        "# Excercise\n",
        "\n",
        "**Scenario:**\n",
        "You are organizing a conference and need to keep track of attendees who have registered for the event. You want to use sets to manage the attendee data efficiently.\n",
        "\n",
        "**Instructions:**\n",
        "\n",
        "* Create sets representing different categories of attendees, such as regular attendees, VIP attendees, and speakers.\n",
        "* Add attendees to the respective sets as they register for the event.\n",
        "* Perform set operations to analyze the attendee data, such as finding common attendees between different categories or identifying unique attendees in each category"
      ],
      "metadata": {
        "id": "3QXjANivIJIU"
      }
    },
    {
      "cell_type": "markdown",
      "source": [
        "# Dictionaries\n",
        "\n",
        "\n",
        "1.   A dictionary is a type of data structure that allows us to store an unordered collection of data into key:value pairs.\n",
        "2.   Dictionaries are mutable, which allows us to add, modify, or delete elements as needed.\n",
        "3. Dictionaries are indicated by using {curly_braces}​\n",
        "4. Syntax: ​\n",
        "**my_dict = {\n",
        "\"key1\": value1,\n",
        "\"key2\": value2,​\n",
        "}**\n"
      ],
      "metadata": {
        "id": "YcFHdSb1ILz_"
      }
    },
    {
      "cell_type": "markdown",
      "source": [
        "# Creating a Dictionary"
      ],
      "metadata": {
        "id": "mGQBbVwFIZ0X"
      }
    },
    {
      "cell_type": "code",
      "source": [
        "my_dict={\n",
        "  \"brand\": \"Rolls-Royce\",\n",
        "  \"model\": \"Phantom\",\n",
        "  \"year\": 2018\n",
        "}\n",
        "print(my_dict)"
      ],
      "metadata": {
        "id": "T7mEdEBZIIqv"
      },
      "execution_count": null,
      "outputs": []
    },
    {
      "cell_type": "code",
      "source": [
        "print(len(my_dict))"
      ],
      "metadata": {
        "id": "4QNLJWwPJ5Na"
      },
      "execution_count": null,
      "outputs": []
    },
    {
      "cell_type": "code",
      "source": [
        "print(type(my_dict))"
      ],
      "metadata": {
        "id": "0yyH42GHKGqI"
      },
      "execution_count": null,
      "outputs": []
    },
    {
      "cell_type": "markdown",
      "source": [
        "# The dict() Constructor"
      ],
      "metadata": {
        "id": "xolSsPylKqyb"
      }
    },
    {
      "cell_type": "code",
      "source": [
        "employee = dict(name = \"Ken\", age =25, country = \"United Kingdom\")\n",
        "print(employee)"
      ],
      "metadata": {
        "id": "HFdOx6HlKQxG"
      },
      "execution_count": null,
      "outputs": []
    },
    {
      "cell_type": "markdown",
      "source": [
        "# Excercise\n",
        "\n",
        "**Scenario:**\n",
        "You are the manager of a retail store, and you need to keep track of the inventory of various products available in your store. You want to use dictionaries to efficiently manage the product data..\n",
        "\n",
        "**Instructions:**\n",
        "\n",
        "* Create a dictionary where the keys represent the product names, and the values represent the corresponding quantities of each product in stock.\n",
        "* Update the inventory as new products arrive or existing products are sold.\n",
        "* Perform dictionary operations to analyze the inventory data, such as finding the total quantity of products, identifying low-stock items, or retrieving product information."
      ],
      "metadata": {
        "id": "OOjvxosNMYxz"
      }
    },
    {
      "cell_type": "markdown",
      "source": [
        "# Recap\n",
        "\n",
        "* Learn the syntax for defining functions\n",
        "* Practice calling functions with various parameters\n",
        "* PExplore Python's standard library​\n",
        "* Understand the concept of modules\n",
        "* Learn how to import modules into Python scripts\n",
        "* Understand the differences between lists, sets, and tuples\n",
        "* Learn common operations and methods for each data structure\n",
        "* Practice using lists, sets, and tuples in Python programs"
      ],
      "metadata": {
        "id": "4RKOqK_9Mtbc"
      }
    }
  ]
}